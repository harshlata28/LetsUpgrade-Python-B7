{
 "cells": [
  {
   "cell_type": "code",
   "execution_count": 3,
   "metadata": {},
   "outputs": [
    {
     "name": "stdout",
     "output_type": "stream",
     "text": [
      "enter the altitude  6000\n",
      "turn around\n"
     ]
    }
   ],
   "source": [
    "alt = input(\"enter the altitude  \")\n",
    "\n",
    "alt = int(alt)\n",
    "\n",
    "if (alt==1000):\n",
    "    \n",
    "    print (\"Safe to land the Plane\")\n",
    "    \n",
    "elif (alt <=5000):\n",
    "    \n",
    "    print (\"Bring it down to 1000\")\n",
    "    \n",
    "elif (alt>5000):\n",
    "    \n",
    "    print (\"turn around\")"
   ]
  },
  {
   "cell_type": "code",
   "execution_count": 4,
   "metadata": {},
   "outputs": [
    {
     "name": "stdout",
     "output_type": "stream",
     "text": [
      "enter the altitude  1000\n",
      "Safe to land the Plane\n"
     ]
    }
   ],
   "source": [
    "alt = input(\"enter the altitude  \")\n",
    "\n",
    "alt = int(alt)\n",
    "\n",
    "if (alt==1000):\n",
    "    \n",
    "    print (\"Safe to land the Plane\")\n",
    "    \n",
    "elif (alt <=5000):\n",
    "    \n",
    "    print (\"Bring it down to 1000\")\n",
    "    \n",
    "elif (alt>5000):\n",
    "    \n",
    "    print (\"turn around\")"
   ]
  },
  {
   "cell_type": "code",
   "execution_count": 5,
   "metadata": {},
   "outputs": [
    {
     "name": "stdout",
     "output_type": "stream",
     "text": [
      "enter the altitude  4500\n",
      "Bring it down to 1000\n"
     ]
    }
   ],
   "source": [
    "alt = input(\"enter the altitude  \")\n",
    "\n",
    "alt = int(alt)\n",
    "\n",
    "if (alt==1000):\n",
    "    \n",
    "    print (\"Safe to land the Plane\")\n",
    "    \n",
    "elif (alt <=5000):\n",
    "    \n",
    "    print (\"Bring it down to 1000\")\n",
    "    \n",
    "elif (alt>5000):\n",
    "    \n",
    "    print (\"turn around\")"
   ]
  },
  {
   "cell_type": "code",
   "execution_count": 1,
   "metadata": {},
   "outputs": [
    {
     "name": "stdout",
     "output_type": "stream",
     "text": [
      "enter the altitude  6500\n",
      "turn around\n"
     ]
    }
   ],
   "source": [
    "alt = input(\"enter the altitude  \")\n",
    "\n",
    "alt = int(alt)\n",
    "\n",
    "if (alt==1000):\n",
    "    \n",
    "    print (\"Safe to land the Plane\")\n",
    "    \n",
    "elif (alt <=5000):\n",
    "    \n",
    "    print (\"Bring it down to 1000\")\n",
    "    \n",
    "elif (alt>5000):\n",
    "    \n",
    "    print (\"turn around\")"
   ]
  },
  {
   "cell_type": "code",
   "execution_count": null,
   "metadata": {},
   "outputs": [],
   "source": []
  }
 ],
 "metadata": {
  "kernelspec": {
   "display_name": "Python 3",
   "language": "python",
   "name": "python3"
  },
  "language_info": {
   "codemirror_mode": {
    "name": "ipython",
    "version": 3
   },
   "file_extension": ".py",
   "mimetype": "text/x-python",
   "name": "python",
   "nbconvert_exporter": "python",
   "pygments_lexer": "ipython3",
   "version": "3.7.6"
  }
 },
 "nbformat": 4,
 "nbformat_minor": 4
}
